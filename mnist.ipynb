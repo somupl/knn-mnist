{
 "cells": [
  {
   "cell_type": "code",
   "execution_count": 1,
   "metadata": {},
   "outputs": [],
   "source": [
    "import gzip\n",
    "import matplotlib.pyplot as plt\n",
    "import numpy as np\n",
    "from sklearn.model_selection import train_test_split\n",
    "from sklearn.neighbors import KNeighborsClassifier"
   ]
  },
  {
   "cell_type": "markdown",
   "metadata": {},
   "source": [
    "# Read Train and Test Images"
   ]
  },
  {
   "cell_type": "code",
   "execution_count": 2,
   "metadata": {},
   "outputs": [],
   "source": [
    "def read_image(file):\n",
    "    # open label file to read in binary mode.  \n",
    "    f = gzip.open(file,'rb')\n",
    "\n",
    "    # first 4 byte magic number, which is not needed\n",
    "    f.read(4)\n",
    "\n",
    "    # next 16 bytes are int32 to be read as as big endian, \n",
    "    # intel processor reads as little endian hence needs to specify byte order explicitly\n",
    "    dt = np.dtype(int)\n",
    "    dt = dt.newbyteorder('>')\n",
    "\n",
    "    # 2nd, 3rd and 4th 4 bytes are number of items, rows and cols\n",
    "    item_count, row, col = np.frombuffer(f.read(12), dtype = dt).astype(np.int64)\n",
    "\n",
    "    # next every byte is interger that contains image pixel value. \n",
    "    data = np.frombuffer(f.read(), dtype=np.uint8).astype(np.float32)\n",
    "    # data as row*col array of all the images.\n",
    "    data = data.reshape(item_count, row, col)\n",
    "    \n",
    "    # return  \n",
    "    return (item_count, row, col,data)\n",
    "\n",
    "Train_count, Train_row, Train_col, Train_img = read_image('data/train-images-idx3-ubyte.gz')\n",
    "Test_count, Test_row, Test_col, Test_img = read_image('data/t10k-images-idx3-ubyte.gz')"
   ]
  },
  {
   "cell_type": "markdown",
   "metadata": {},
   "source": [
    "# Read Train and Test Labels"
   ]
  },
  {
   "cell_type": "code",
   "execution_count": 3,
   "metadata": {},
   "outputs": [],
   "source": [
    "def read_labels(file):\n",
    "    # open label file to read in binary mode. \n",
    "    f = gzip.open(file,'rb') \n",
    "    \n",
    "    # first 4 byte magic number, which is not needed\n",
    "    f.read(4) \n",
    "\n",
    "    # 2nd 4 bytes are int32 to be read as as big endian, \n",
    "    # intel reads as little endian hence needs to specify byte order explicitly\n",
    "    dt = np.dtype(int)\n",
    "    dt = dt.newbyteorder('>')\n",
    "\n",
    "    # second 4 bytes number of items\n",
    "    item_count = np.frombuffer(f.read(4), dtype = dt).astype(np.int64) \n",
    "    \n",
    "    # next every byte is interger that contains labels. \n",
    "    labels = np.frombuffer(f.read(), dtype = np.uint8).astype(np.int64)\n",
    "    \n",
    "    return (item_count, labels)\n",
    "\n",
    "train_label_count, train_labels = read_labels('data/train-labels-idx1-ubyte.gz')\n",
    "test_label_count, test_labels = read_labels('data/t10k-labels-idx1-ubyte.gz')"
   ]
  },
  {
   "cell_type": "markdown",
   "metadata": {},
   "source": [
    "### Check Train Image and Train Label to make sure we read the data correctly"
   ]
  },
  {
   "cell_type": "code",
   "execution_count": 4,
   "metadata": {},
   "outputs": [
    {
     "name": "stdout",
     "output_type": "stream",
     "text": [
      "5\n"
     ]
    },
    {
     "data": {
      "image/png": "[encoded data removed]",
      "text/plain": [
       "<Figure size 432x288 with 1 Axes>"
      ]
     },
     "metadata": {
      "needs_background": "light"
     },
     "output_type": "display_data"
    }
   ],
   "source": [
    "print(train_labels[0])\n",
    "plt.imshow(Train_img[0]);"
   ]
  },
  {
   "cell_type": "markdown",
   "metadata": {},
   "source": [
    "### Check test Image and Test Label to make sure we read the data correctly"
   ]
  },
  {
   "cell_type": "code",
   "execution_count": 5,
   "metadata": {},
   "outputs": [
    {
     "name": "stdout",
     "output_type": "stream",
     "text": [
      "7\n"
     ]
    },
    {
     "data": {
      "image/png": "[encoded data removed]",
      "text/plain": [
       "<Figure size 432x288 with 1 Axes>"
      ]
     },
     "metadata": {
      "needs_background": "light"
     },
     "output_type": "display_data"
    }
   ],
   "source": [
    "print(test_labels[0])\n",
    "plt.imshow(Test_img[0]);"
   ]
  },
  {
   "cell_type": "markdown",
   "metadata": {},
   "source": [
    "### Form X_train and y_train, X_test, y_test for modeling & testing"
   ]
  },
  {
   "cell_type": "code",
   "execution_count": 6,
   "metadata": {},
   "outputs": [],
   "source": [
    "y_train = train_labels\n",
    "X_train = Train_img.reshape(Train_count, Train_row*Train_col)\n",
    "\n",
    "y_test = test_labels\n",
    "X_test = Test_img.reshape(Test_count, Test_row*Test_col)"
   ]
  },
  {
   "cell_type": "markdown",
   "metadata": {},
   "source": [
    "# Knn classifier with k = 3"
   ]
  },
  {
   "cell_type": "code",
   "execution_count": 7,
   "metadata": {},
   "outputs": [],
   "source": [
    "knn = KNeighborsClassifier(n_neighbors=3).fit(X_train, y_train)"
   ]
  },
  {
   "cell_type": "markdown",
   "metadata": {},
   "source": [
    "## Check actual value, predicted value for a test image"
   ]
  },
  {
   "cell_type": "code",
   "execution_count": 13,
   "metadata": {},
   "outputs": [
    {
     "data": {
      "text/plain": [
       "(7, 7)"
      ]
     },
     "execution_count": 13,
     "metadata": {},
     "output_type": "execute_result"
    },
    {
     "data": {
      "image/png": "[encoded data removed]",
      "text/plain": [
       "<Figure size 432x288 with 1 Axes>"
      ]
     },
     "metadata": {
      "needs_background": "light"
     },
     "output_type": "display_data"
    }
   ],
   "source": [
    "plt.imshow(X_test[0].reshape(Test_row, Test_col));\n",
    "knn.predict(X_test[0].reshape(1,Test_row*Test_col))[0], y_test[0]"
   ]
  },
  {
   "cell_type": "markdown",
   "metadata": {},
   "source": [
    "## Score the model against test data"
   ]
  },
  {
   "cell_type": "code",
   "execution_count": 10,
   "metadata": {},
   "outputs": [
    {
     "data": {
      "text/plain": [
       "0.9705"
      ]
     },
     "execution_count": 10,
     "metadata": {},
     "output_type": "execute_result"
    }
   ],
   "source": [
    "knn.score(X_test, y_test) # took about 15 min to run"
   ]
  },
  {
   "cell_type": "markdown",
   "metadata": {},
   "source": [
    "## Finding few errors that machine made to understand the reason"
   ]
  },
  {
   "cell_type": "code",
   "execution_count": 26,
   "metadata": {},
   "outputs": [
    {
     "name": "stdout",
     "output_type": "stream",
     "text": [
      "[65, 115, 195, 241, 247, 300, 318, 320, 321, 341, 358, 381, 412, 445, 464, 479, 495, 542, 551, 582, 583, 591, 628, 659, 691, 707, 717, 740, 791, 839, 844, 881, 924, 938, 939, 947, 951, 957]\n"
     ]
    }
   ],
   "source": [
    "error = []\n",
    "for i in range(1000):\n",
    "    if knn.predict(X_test[i].reshape(1,Test_row*Test_col))[0] != y_test[i]:\n",
    "        error.append(i)\n",
    "print(error)"
   ]
  },
  {
   "cell_type": "markdown",
   "metadata": {},
   "source": [
    "## Plotting them clearly shows the reason behind the error"
   ]
  },
  {
   "cell_type": "code",
   "execution_count": 35,
   "metadata": {},
   "outputs": [
    {
     "name": "stdout",
     "output_type": "stream",
     "text": [
      "9 4\n"
     ]
    },
    {
     "data": {
      "image/png": "[encoded data removed]",
      "text/plain": [
       "<Figure size 432x288 with 1 Axes>"
      ]
     },
     "metadata": {
      "needs_background": "light"
     },
     "output_type": "display_data"
    }
   ],
   "source": [
    "def error_check(ind):\n",
    "    plt.imshow(X_test[ind].reshape(Test_row, Test_col));\n",
    "    print(knn.predict(X_test[ind].reshape(1,Test_row*Test_col))[0], y_test[ind])\n",
    "error_check(115)"
   ]
  }
 ],
 "metadata": {
  "kernelspec": {
   "display_name": "Python 3",
   "language": "python",
   "name": "python3"
  },
  "language_info": {
   "codemirror_mode": {
    "name": "ipython",
    "version": 3
   },
   "file_extension": ".py",
   "mimetype": "text/x-python",
   "name": "python",
   "nbconvert_exporter": "python",
   "pygments_lexer": "ipython3",
   "version": "3.7.1"
  }
 },
 "nbformat": 4,
 "nbformat_minor": 2
}
